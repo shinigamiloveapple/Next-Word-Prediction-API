{
 "cells": [
  {
   "cell_type": "code",
   "execution_count": 1,
   "id": "thirty-certificate",
   "metadata": {},
   "outputs": [],
   "source": [
    "from keras.models import Sequential, load_model\n",
    "from keras.layers import Dense, Dropout, LSTM\n",
    "from keras.optimizers import RMSprop\n",
    "import matplotlib.pyplot as plt\n",
    "import numpy as np\n",
    "import pickle"
   ]
  },
  {
   "cell_type": "markdown",
   "id": "north-deadline",
   "metadata": {},
   "source": [
    "# Laoding Data"
   ]
  },
  {
   "cell_type": "code",
   "execution_count": 5,
   "id": "legislative-richmond",
   "metadata": {},
   "outputs": [],
   "source": [
    "filename = \"C:/Users/RYuK/trainingText (2).txt\""
   ]
  },
  {
   "cell_type": "code",
   "execution_count": 6,
   "id": "irish-vaccine",
   "metadata": {},
   "outputs": [],
   "source": [
    "text = open(filename, 'r', encoding='utf-8').read()\n",
    "text = ''.join(a for a in text if not a.isdigit())\n",
    "text = text.replace('\\n',' ')\n",
    "text = text.lower()\n"
   ]
  },
  {
   "cell_type": "code",
   "execution_count": null,
   "id": "previous-anderson",
   "metadata": {},
   "outputs": [],
   "source": [
    "for position, line in enumerate(text):\n",
    "    if position in range"
   ]
  },
  {
   "cell_type": "code",
   "execution_count": 4,
   "id": "oriented-cuisine",
   "metadata": {},
   "outputs": [
    {
     "name": "stdout",
     "output_type": "stream",
     "text": [
      "Length of the corpus: 216110\n"
     ]
    }
   ],
   "source": [
    "print('Length of the corpus:', len(text))"
   ]
  },
  {
   "cell_type": "markdown",
   "id": "final-holocaust",
   "metadata": {},
   "source": [
    "# Data Precprocessing"
   ]
  },
  {
   "cell_type": "code",
   "execution_count": 5,
   "id": "urban-cherry",
   "metadata": {},
   "outputs": [
    {
     "name": "stdout",
     "output_type": "stream",
     "text": [
      "[' ', '!', '\"', \"'\", '(', ')', ',', '-', '.', ':', ';', '?', '[', ']', '_', 'a', 'b', 'c', 'd', 'e', 'f', 'g', 'h', 'i', 'j', 'k', 'l', 'm', 'n', 'o', 'p', 'q', 'r', 's', 't', 'u', 'v', 'w', 'x', 'y', 'z']\n",
      "------------------------------------------------------------------------------------------------------------------------\n",
      "Total number of character in corpus: 41\n"
     ]
    }
   ],
   "source": [
    "#Total number of unique character presents in corpus\n",
    "chars = sorted(list(set(text)))\n",
    "print(chars)\n",
    "print('-'*120)\n",
    "print('Total number of character in corpus:', len(chars))"
   ]
  },
  {
   "cell_type": "code",
   "execution_count": 17,
   "id": "adjacent-stupid",
   "metadata": {},
   "outputs": [],
   "source": [
    "# Saving the chars variable to use it for the prediciton \n",
    "\n",
    "with open('chars.pckl', 'wb') as fp:\n",
    "    pickle.dump(chars, fp)"
   ]
  },
  {
   "cell_type": "code",
   "execution_count": 6,
   "id": "composite-immunology",
   "metadata": {},
   "outputs": [],
   "source": [
    "# Creating Character-Index Map to use it as Tokens for the training and the predictions.\n",
    "\n",
    "#Creating a dictionary of characters mapped to integer value.\n",
    "char_index = dict((c, i) for i, c in enumerate(chars))\n",
    "\n",
    "#And reverse to print our prediction in characters and not in integers.\n",
    "index_char = dict((i, c) for i, c in enumerate(chars))"
   ]
  },
  {
   "cell_type": "code",
   "execution_count": 18,
   "id": "governing-quantity",
   "metadata": {},
   "outputs": [],
   "source": [
    "# Saving the dictionary to use for prediciton\n",
    "np.save('char_index.npy', char_index)\n",
    "np.save('index_char.npy', index_char)"
   ]
  },
  {
   "cell_type": "code",
   "execution_count": 7,
   "id": "ongoing-adrian",
   "metadata": {},
   "outputs": [
    {
     "name": "stdout",
     "output_type": "stream",
     "text": [
      "Character to Integer Mapping:\n",
      " {' ': 0, '!': 1, '\"': 2, \"'\": 3, '(': 4, ')': 5, ',': 6, '-': 7, '.': 8, ':': 9, ';': 10, '?': 11, '[': 12, ']': 13, '_': 14, 'a': 15, 'b': 16, 'c': 17, 'd': 18, 'e': 19, 'f': 20, 'g': 21, 'h': 22, 'i': 23, 'j': 24, 'k': 25, 'l': 26, 'm': 27, 'n': 28, 'o': 29, 'p': 30, 'q': 31, 'r': 32, 's': 33, 't': 34, 'u': 35, 'v': 36, 'w': 37, 'x': 38, 'y': 39, 'z': 40}\n",
      "------------------------------------------------------------------------------------------------------------------------\n",
      "Index to Character Mapping:\n",
      " {0: ' ', 1: '!', 2: '\"', 3: \"'\", 4: '(', 5: ')', 6: ',', 7: '-', 8: '.', 9: ':', 10: ';', 11: '?', 12: '[', 13: ']', 14: '_', 15: 'a', 16: 'b', 17: 'c', 18: 'd', 19: 'e', 20: 'f', 21: 'g', 22: 'h', 23: 'i', 24: 'j', 25: 'k', 26: 'l', 27: 'm', 28: 'n', 29: 'o', 30: 'p', 31: 'q', 32: 'r', 33: 's', 34: 't', 35: 'u', 36: 'v', 37: 'w', 38: 'x', 39: 'y', 40: 'z'}\n"
     ]
    }
   ],
   "source": [
    "print('Character to Integer Mapping:\\n',char_index)\n",
    "print('-'*120)\n",
    "print('Index to Character Mapping:\\n',index_char)"
   ]
  },
  {
   "cell_type": "code",
   "execution_count": 8,
   "id": "dangerous-electric",
   "metadata": {
    "scrolled": true
   },
   "outputs": [
    {
     "name": "stdout",
     "output_type": "stream",
     "text": [
      "Number of Training sequences: 108035\n"
     ]
    }
   ],
   "source": [
    "# Since LSTM input and ouput can be sequences, Lets create input/output sequences for training\n",
    "seq_len = 40\n",
    "step = 2\n",
    "sentences = []\n",
    "next_chars = []\n",
    "for i in range(0, len(text) - seq_len, step):\n",
    "    sentences.append(text[i: i + seq_len])\n",
    "    next_chars.append(text[i + seq_len])\n",
    "print('Number of Training sequences:', len(sentences))"
   ]
  },
  {
   "cell_type": "markdown",
   "id": "hindu-stocks",
   "metadata": {},
   "source": [
    "# Feature Extraction"
   ]
  },
  {
   "cell_type": "code",
   "execution_count": 9,
   "id": "southern-miracle",
   "metadata": {},
   "outputs": [
    {
     "name": "stdout",
     "output_type": "stream",
     "text": [
      "Shape of X: (108035, 40, 41)\n",
      "Shape of Y: (108035, 41)\n"
     ]
    }
   ],
   "source": [
    "# Now to generate Features and lables, we will convert the above Sequence and character to One-hot coded vectors using\n",
    "# the character index map.\n",
    "\n",
    "X = np.zeros((len(sentences), seq_len, len(chars)), dtype=np.bool)\n",
    "Y = np.zeros((len(sentences), len(chars)), dtype=np.bool)\n",
    "\n",
    "for a, sentence in enumerate(sentences):\n",
    "    for b, char in enumerate(sentence):\n",
    "        X[a, b, char_index[char]] = 1\n",
    "        Y[a, char_index[next_chars[a]]] = 1\n",
    "\n",
    "print('Shape of X:', X.shape)\n",
    "print('Shape of Y:',Y.shape)"
   ]
  },
  {
   "cell_type": "code",
   "execution_count": 10,
   "id": "expanded-final",
   "metadata": {},
   "outputs": [
    {
     "data": {
      "text/plain": [
       "array([False, False, False, False, False, False, False, False, False,\n",
       "       False, False, False, False, False, False, False, False, False,\n",
       "       False, False, False, False, False, False, False, False, False,\n",
       "       False, False, False, False, False, False,  True, False, False,\n",
       "       False, False, False, False, False])"
      ]
     },
     "execution_count": 10,
     "metadata": {},
     "output_type": "execute_result"
    }
   ],
   "source": [
    "X[0][0]"
   ]
  },
  {
   "cell_type": "code",
   "execution_count": 11,
   "id": "tropical-bruce",
   "metadata": {},
   "outputs": [
    {
     "data": {
      "text/plain": [
       "array([False, False, False, False, False, False, False, False, False,\n",
       "       False, False, False, False, False, False, False, False, False,\n",
       "       False,  True, False, False, False, False, False, False, False,\n",
       "       False, False, False, False, False, False, False, False, False,\n",
       "       False, False, False, False, False])"
      ]
     },
     "execution_count": 11,
     "metadata": {},
     "output_type": "execute_result"
    }
   ],
   "source": [
    "Y[0]"
   ]
  },
  {
   "cell_type": "markdown",
   "id": "written-embassy",
   "metadata": {},
   "source": [
    "# Model Training"
   ]
  },
  {
   "cell_type": "code",
   "execution_count": 13,
   "id": "handy-harrison",
   "metadata": {},
   "outputs": [],
   "source": [
    "# Using a simple LSTM model with only one hidden layer with 128 neurons and softmax function for activation\n",
    "model = Sequential()\n",
    "model.add(LSTM(128, input_shape=(seq_len, len(chars))))\n",
    "model.add(Dense(len(chars), activation='softmax'))"
   ]
  },
  {
   "cell_type": "code",
   "execution_count": 14,
   "id": "missing-juice",
   "metadata": {
    "scrolled": true
   },
   "outputs": [
    {
     "name": "stdout",
     "output_type": "stream",
     "text": [
      "Model: \"sequential\"\n",
      "_________________________________________________________________\n",
      "Layer (type)                 Output Shape              Param #   \n",
      "=================================================================\n",
      "lstm (LSTM)                  (None, 128)               87040     \n",
      "_________________________________________________________________\n",
      "dense (Dense)                (None, 41)                5289      \n",
      "=================================================================\n",
      "Total params: 92,329\n",
      "Trainable params: 92,329\n",
      "Non-trainable params: 0\n",
      "_________________________________________________________________\n"
     ]
    }
   ],
   "source": [
    "# Compiling the model with RMSprop optimizer and loss as categorical_crossentropy.\n",
    "optimizer = RMSprop(lr=0.01)\n",
    "model.compile(loss='categorical_crossentropy', optimizer=optimizer, metrics=['accuracy'])\n",
    "\n",
    "model.summary()"
   ]
  },
  {
   "cell_type": "code",
   "execution_count": 15,
   "id": "charming-neighborhood",
   "metadata": {
    "scrolled": true
   },
   "outputs": [
    {
     "name": "stdout",
     "output_type": "stream",
     "text": [
      "Epoch 1/20\n",
      "802/802 [==============================] - 36s 40ms/step - loss: 2.3911 - accuracy: 0.3188 - val_loss: 1.7523 - val_accuracy: 0.4798\n",
      "Epoch 2/20\n",
      "802/802 [==============================] - 28s 35ms/step - loss: 1.7126 - accuracy: 0.4901 - val_loss: 1.5891 - val_accuracy: 0.5278\n",
      "Epoch 3/20\n",
      "802/802 [==============================] - 28s 35ms/step - loss: 1.5469 - accuracy: 0.5365 - val_loss: 1.5200 - val_accuracy: 0.5526\n",
      "Epoch 4/20\n",
      "802/802 [==============================] - 28s 35ms/step - loss: 1.4513 - accuracy: 0.5642 - val_loss: 1.4966 - val_accuracy: 0.5631\n",
      "Epoch 5/20\n",
      "802/802 [==============================] - 28s 35ms/step - loss: 1.3848 - accuracy: 0.5804 - val_loss: 1.4884 - val_accuracy: 0.5572\n",
      "Epoch 6/20\n",
      "802/802 [==============================] - 27s 34ms/step - loss: 1.3444 - accuracy: 0.5936 - val_loss: 1.4761 - val_accuracy: 0.5607\n",
      "Epoch 7/20\n",
      "802/802 [==============================] - 28s 35ms/step - loss: 1.3124 - accuracy: 0.5991 - val_loss: 1.4834 - val_accuracy: 0.5690\n",
      "Epoch 8/20\n",
      "802/802 [==============================] - 39s 49ms/step - loss: 1.2902 - accuracy: 0.6060 - val_loss: 1.4926 - val_accuracy: 0.5609\n",
      "Epoch 9/20\n",
      "802/802 [==============================] - 59s 74ms/step - loss: 1.2737 - accuracy: 0.6101 - val_loss: 1.4883 - val_accuracy: 0.5681\n",
      "Epoch 10/20\n",
      "802/802 [==============================] - 59s 74ms/step - loss: 1.2487 - accuracy: 0.6183 - val_loss: 1.4862 - val_accuracy: 0.5653\n",
      "Epoch 11/20\n",
      "802/802 [==============================] - 43s 54ms/step - loss: 1.2352 - accuracy: 0.6216 - val_loss: 1.4919 - val_accuracy: 0.5672\n",
      "Epoch 12/20\n",
      "802/802 [==============================] - 27s 34ms/step - loss: 1.2215 - accuracy: 0.6279 - val_loss: 1.4908 - val_accuracy: 0.5681\n",
      "Epoch 13/20\n",
      "802/802 [==============================] - 27s 33ms/step - loss: 1.2149 - accuracy: 0.6269 - val_loss: 1.4895 - val_accuracy: 0.5644\n",
      "Epoch 14/20\n",
      "802/802 [==============================] - 27s 33ms/step - loss: 1.2003 - accuracy: 0.6296 - val_loss: 1.5022 - val_accuracy: 0.5652\n",
      "Epoch 15/20\n",
      "802/802 [==============================] - 27s 34ms/step - loss: 1.1937 - accuracy: 0.6320 - val_loss: 1.4988 - val_accuracy: 0.5694\n",
      "Epoch 16/20\n",
      "802/802 [==============================] - 27s 33ms/step - loss: 1.1793 - accuracy: 0.6349 - val_loss: 1.5104 - val_accuracy: 0.5705\n",
      "Epoch 17/20\n",
      "802/802 [==============================] - 27s 33ms/step - loss: 1.1730 - accuracy: 0.6380 - val_loss: 1.4968 - val_accuracy: 0.5716\n",
      "Epoch 18/20\n",
      "802/802 [==============================] - 27s 34ms/step - loss: 1.1741 - accuracy: 0.6377 - val_loss: 1.5050 - val_accuracy: 0.5735\n",
      "Epoch 19/20\n",
      "802/802 [==============================] - 27s 34ms/step - loss: 1.1593 - accuracy: 0.6394 - val_loss: 1.5151 - val_accuracy: 0.5622\n",
      "Epoch 20/20\n",
      "802/802 [==============================] - 27s 33ms/step - loss: 1.1587 - accuracy: 0.6420 - val_loss: 1.5270 - val_accuracy: 0.5609\n"
     ]
    }
   ],
   "source": [
    "# Training Model with 20 epochs with validation split of 0.05 and batch_size of 128\n",
    "history = model.fit(X, Y, validation_split=0.05, batch_size=128, epochs=20, shuffle=True).history"
   ]
  },
  {
   "cell_type": "code",
   "execution_count": 19,
   "id": "educated-insulation",
   "metadata": {},
   "outputs": [],
   "source": [
    "# Saving our model progress\n",
    "model.save('WTP_model.h5')\n",
    "pickle.dump(history , open(\"WTPhistory.p\", \"wb\"))"
   ]
  },
  {
   "cell_type": "markdown",
   "id": "industrial-immigration",
   "metadata": {},
   "source": [
    "# Model Evaluation"
   ]
  },
  {
   "cell_type": "code",
   "execution_count": 16,
   "id": "unusual-opera",
   "metadata": {},
   "outputs": [
    {
     "data": {
      "image/png": "[encoded data removed]",
      "text/plain": [
       "<Figure size 1080x504 with 2 Axes>"
      ]
     },
     "metadata": {
      "needs_background": "light"
     },
     "output_type": "display_data"
    }
   ],
   "source": [
    "epochs = [i  for i in range(20)]\n",
    "fig , ax = plt.subplots(1,2)\n",
    "train_acc = history['accuracy']\n",
    "train_loss = history['loss']\n",
    "val_acc = history['val_accuracy']\n",
    "val_loss = history['val_loss']\n",
    "fig.set_size_inches(15,7)\n",
    "\n",
    "ax[0].plot(epochs , train_acc , 'go-' , label = 'Training Accuracy')\n",
    "ax[0].plot(epochs , val_acc , 'ro-' , label = 'Validation Accuracy')\n",
    "ax[0].set_title('Training & Validation Accuracy')\n",
    "ax[0].legend()\n",
    "ax[0].set_xlabel(\"Epochs\")\n",
    "ax[0].set_ylabel(\"Accuracy\")\n",
    "\n",
    "ax[1].plot(epochs , train_loss , 'g-o' , label = 'Training Loss')\n",
    "ax[1].plot(epochs , val_loss , 'r-o' , label = 'Validation Loss')\n",
    "ax[1].set_title('Training & Validation Loss')\n",
    "ax[1].legend()\n",
    "ax[1].set_xlabel(\"Epochs\")\n",
    "ax[1].set_ylabel(\"Training & Validation Loss\")\n",
    "plt.show()"
   ]
  },
  {
   "cell_type": "markdown",
   "id": "essential-wichita",
   "metadata": {},
   "source": [
    "As we can see in graph, the graph here represents the each epoch at each nodes and after ssing the graph we can inference that increasing epoch will only overfit our model as the validation accuracy is decreasing with each epochs. So its best time to stop the training."
   ]
  },
  {
   "cell_type": "code",
   "execution_count": null,
   "id": "global-allergy",
   "metadata": {},
   "outputs": [],
   "source": []
  }
 ],
 "metadata": {
  "kernelspec": {
   "display_name": "Python [conda env:.conda-snake] *",
   "language": "python",
   "name": "conda-env-.conda-snake-py"
  },
  "language_info": {
   "codemirror_mode": {
    "name": "ipython",
    "version": 3
   },
   "file_extension": ".py",
   "mimetype": "text/x-python",
   "name": "python",
   "nbconvert_exporter": "python",
   "pygments_lexer": "ipython3",
   "version": "3.8.5"
  }
 },
 "nbformat": 4,
 "nbformat_minor": 5
}
